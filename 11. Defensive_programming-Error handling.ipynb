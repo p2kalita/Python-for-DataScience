{
 "cells": [
  {
   "cell_type": "markdown",
   "metadata": {},
   "source": [
    "## Defensive Programming - Error Handeling"
   ]
  },
  {
   "cell_type": "markdown",
   "metadata": {},
   "source": [
    "Hemant Thapa"
   ]
  },
  {
   "cell_type": "markdown",
   "metadata": {},
   "source": [
    "## Type of Error"
   ]
  },
  {
   "cell_type": "markdown",
   "metadata": {},
   "source": [
    "#### 1.SyntaxError"
   ]
  },
  {
   "cell_type": "markdown",
   "metadata": {},
   "source": [
    "Compilation error refers to a state when a compiler fails to compile a piece of computer program source code, either due to errors in the code, or, more unusually, due to errors in the compiler itself. A compilation error message often helps programmers debugging the source code."
   ]
  },
  {
   "cell_type": "markdown",
   "metadata": {},
   "source": [
    "1. A syntax error is an error in the syntax of a sequence of characters.\n",
    "\n",
    "2. A syntax error occurs due to fault in the program syntax \n",
    "\n",
    "3. It is easier to identify syntax error.\n",
    "\n",
    "4. The compile indicates the syntax error with the location and what the error is."
   ]
  },
  {
   "cell_type": "markdown",
   "metadata": {},
   "source": [
    "#### Common python syntax error inculdes:"
   ]
  },
  {
   "cell_type": "markdown",
   "metadata": {},
   "source": [
    "1. Leaving out a keyword or putting it in the wrong place\n",
    "\n",
    "2. Misspelling a keyword (for example a function or variable name)\n",
    "\n",
    "3. Leaving out an important symbol(such as a colon, comma or parentheses)\n",
    "\n",
    "4. Incorrect indentation\n",
    "\n",
    "5. Leaving an empty block(for example, an if statement containing no intented statements)"
   ]
  },
  {
   "cell_type": "code",
   "execution_count": 7,
   "metadata": {
    "scrolled": true
   },
   "outputs": [
    {
     "ename": "SyntaxError",
     "evalue": "invalid syntax (4054194847.py, line 3)",
     "output_type": "error",
     "traceback": [
      "\u001b[1;36m  Input \u001b[1;32mIn [7]\u001b[1;36m\u001b[0m\n\u001b[1;33m    print(\"\\nyou're welcome\", user_name)\u001b[0m\n\u001b[1;37m    ^\u001b[0m\n\u001b[1;31mSyntaxError\u001b[0m\u001b[1;31m:\u001b[0m invalid syntax\n"
     ]
    }
   ],
   "source": [
    "user_name = str(input(\"Enter your user name: \") #missing parentheses\n",
    "if user_name == \"harry\" #missing column\n",
    "    print(\"\\nyou're welcome\", user_name)"
   ]
  },
  {
   "cell_type": "code",
   "execution_count": 128,
   "metadata": {},
   "outputs": [
    {
     "name": "stdout",
     "output_type": "stream",
     "text": [
      "Enter your user name: harry\n",
      "\n",
      "you're welcome harry\n"
     ]
    }
   ],
   "source": [
    "user_name = str(input(\"Enter your user name: \")) #fixed - missing parentheses\n",
    "if user_name == \"harry\": #fixed - missing column\n",
    "    print(\"\\nyou're welcome\", user_name)"
   ]
  },
  {
   "cell_type": "code",
   "execution_count": 119,
   "metadata": {},
   "outputs": [
    {
     "ename": "SyntaxError",
     "evalue": "EOL while scanning string literal (1990921786.py, line 2)",
     "output_type": "error",
     "traceback": [
      "\u001b[1;36m  Input \u001b[1;32mIn [119]\u001b[1;36m\u001b[0m\n\u001b[1;33m    return \"This is a test #Missing quotes\u001b[0m\n\u001b[1;37m                                          ^\u001b[0m\n\u001b[1;31mSyntaxError\u001b[0m\u001b[1;31m:\u001b[0m EOL while scanning string literal\n"
     ]
    }
   ],
   "source": [
    "#The reason for this error is that forgot a closing double quote at the end of the string. \n",
    "#String literals can be enclosed in matching single quotes (') or double quotes (\").\n",
    "def printMsg():\n",
    "    return \"This is a test #Missing quotes\n",
    "printMsg()"
   ]
  },
  {
   "cell_type": "code",
   "execution_count": 118,
   "metadata": {},
   "outputs": [
    {
     "data": {
      "text/plain": [
       "'This is a test'"
      ]
     },
     "execution_count": 118,
     "metadata": {},
     "output_type": "execute_result"
    }
   ],
   "source": [
    "def printMsg():\n",
    "    return \"This is a test\"\n",
    "printMsg()"
   ]
  },
  {
   "cell_type": "markdown",
   "metadata": {},
   "source": [
    "#### 2. Indentation error"
   ]
  },
  {
   "cell_type": "code",
   "execution_count": 5,
   "metadata": {},
   "outputs": [
    {
     "ename": "IndentationError",
     "evalue": "expected an indented block (2651317459.py, line 3)",
     "output_type": "error",
     "traceback": [
      "\u001b[1;36m  Input \u001b[1;32mIn [5]\u001b[1;36m\u001b[0m\n\u001b[1;33m    print(\"\\nyou're welcome\", user_name)\u001b[0m\n\u001b[1;37m    ^\u001b[0m\n\u001b[1;31mIndentationError\u001b[0m\u001b[1;31m:\u001b[0m expected an indented block\n"
     ]
    }
   ],
   "source": [
    "user_name = str(input(\"Enter your user name: \"))\n",
    "if user_name == \"harry\":\n",
    "print(\"\\nyou're welcome\", user_name) #incorrect indentation"
   ]
  },
  {
   "cell_type": "code",
   "execution_count": 127,
   "metadata": {},
   "outputs": [
    {
     "name": "stdout",
     "output_type": "stream",
     "text": [
      "Enter your user name: harry\n",
      "\n",
      "you're welcome harry\n"
     ]
    }
   ],
   "source": [
    "user_name = str(input(\"Enter your user name: \"))\n",
    "if user_name == \"harry\":\n",
    "    print(\"\\nyou're welcome\", user_name) #correct indentation"
   ]
  },
  {
   "cell_type": "markdown",
   "metadata": {},
   "source": [
    "#### 3. name error"
   ]
  },
  {
   "cell_type": "code",
   "execution_count": 10,
   "metadata": {},
   "outputs": [
    {
     "name": "stdout",
     "output_type": "stream",
     "text": [
      "Enter your user name: asda\n"
     ]
    },
    {
     "ename": "NameError",
     "evalue": "name 'user' is not defined",
     "output_type": "error",
     "traceback": [
      "\u001b[1;31m---------------------------------------------------------------------------\u001b[0m",
      "\u001b[1;31mNameError\u001b[0m                                 Traceback (most recent call last)",
      "Input \u001b[1;32mIn [10]\u001b[0m, in \u001b[0;36m<cell line: 2>\u001b[1;34m()\u001b[0m\n\u001b[0;32m      1\u001b[0m user_name \u001b[38;5;241m=\u001b[39m \u001b[38;5;28mstr\u001b[39m(\u001b[38;5;28minput\u001b[39m(\u001b[38;5;124m\"\u001b[39m\u001b[38;5;124mEnter your user name: \u001b[39m\u001b[38;5;124m\"\u001b[39m))\n\u001b[1;32m----> 2\u001b[0m \u001b[38;5;28;01mif\u001b[39;00m \u001b[43muser\u001b[49m \u001b[38;5;241m==\u001b[39m \u001b[38;5;124m\"\u001b[39m\u001b[38;5;124mharry\u001b[39m\u001b[38;5;124m\"\u001b[39m:\n\u001b[0;32m      3\u001b[0m     \u001b[38;5;28mprint\u001b[39m(\u001b[38;5;124m\"\u001b[39m\u001b[38;5;130;01m\\n\u001b[39;00m\u001b[38;5;124myou\u001b[39m\u001b[38;5;124m'\u001b[39m\u001b[38;5;124mre welcome\u001b[39m\u001b[38;5;124m\"\u001b[39m, user_name)\n",
      "\u001b[1;31mNameError\u001b[0m: name 'user' is not defined"
     ]
    }
   ],
   "source": [
    "user_name = str(input(\"Enter your user name: \"))\n",
    "if user_name == \"harry\":\n",
    "     print(\"\\nyou're welcome\", user_name)"
   ]
  },
  {
   "cell_type": "markdown",
   "metadata": {},
   "source": [
    "## Runtime Error"
   ]
  },
  {
   "cell_type": "markdown",
   "metadata": {},
   "source": [
    "#### 1. Type Error"
   ]
  },
  {
   "cell_type": "code",
   "execution_count": 125,
   "metadata": {},
   "outputs": [
    {
     "name": "stdout",
     "output_type": "stream",
     "text": [
      "\n",
      "Welcome to Bamboo\n",
      "How old are you? 23\n"
     ]
    },
    {
     "ename": "TypeError",
     "evalue": "'>=' not supported between instances of 'str' and 'int'",
     "output_type": "error",
     "traceback": [
      "\u001b[1;31m---------------------------------------------------------------------------\u001b[0m",
      "\u001b[1;31mTypeError\u001b[0m                                 Traceback (most recent call last)",
      "Input \u001b[1;32mIn [125]\u001b[0m, in \u001b[0;36m<cell line: 7>\u001b[1;34m()\u001b[0m\n\u001b[0;32m      4\u001b[0m \u001b[38;5;66;03m#input need to be str or int\u001b[39;00m\n\u001b[0;32m      5\u001b[0m user_age \u001b[38;5;241m=\u001b[39m \u001b[38;5;28minput\u001b[39m(\u001b[38;5;124m\"\u001b[39m\u001b[38;5;124mHow old are you? \u001b[39m\u001b[38;5;124m\"\u001b[39m) \n\u001b[1;32m----> 7\u001b[0m \u001b[38;5;28;01mif\u001b[39;00m \u001b[43muser_age\u001b[49m\u001b[38;5;241;43m>\u001b[39;49m\u001b[38;5;241;43m=\u001b[39;49m\u001b[38;5;241;43m18\u001b[39;49m: \u001b[38;5;66;03m#\"TypeError: '<' not supported between instances of 'str' and 'int'\" occurs when we use a comparison operator between values of type str and int.\u001b[39;00m\n\u001b[0;32m      8\u001b[0m     \u001b[38;5;28mprint\u001b[39m(\u001b[38;5;124m\"\u001b[39m\u001b[38;5;130;01m\\n\u001b[39;00m\u001b[38;5;124mYou can old enough to enter\u001b[39m\u001b[38;5;124m\"\u001b[39m)\n\u001b[0;32m      9\u001b[0m \u001b[38;5;28;01melse\u001b[39;00m:\n",
      "\u001b[1;31mTypeError\u001b[0m: '>=' not supported between instances of 'str' and 'int'"
     ]
    }
   ],
   "source": [
    "#TypeError: '>=' not supported between instances of 'str' and 'int'\n",
    "#If you try to compare a string and an integer, you’ll encounter an error that says “not supported between instances of ‘str’ and ‘int’”.\n",
    "print(\"\\nWelcome to Bamboo\")\n",
    "#input need to be str or int\n",
    "user_age = input(\"How old are you? \") \n",
    "\n",
    "if user_age>=18: #\"TypeError: '<' not supported between instances of 'str' and 'int'\" occurs when we use a comparison operator between values of type str and int.\n",
    "    print(\"\\nYou can old enough to enter\")\n",
    "else:\n",
    "    print(\"\\nSorry, you aren't old enough\")\n"
   ]
  },
  {
   "cell_type": "code",
   "execution_count": 124,
   "metadata": {},
   "outputs": [
    {
     "name": "stdout",
     "output_type": "stream",
     "text": [
      "Welcome to Bamboo\n",
      "\n",
      "How old are you? 23\n",
      "\n",
      "You can old enough to enter\n"
     ]
    }
   ],
   "source": [
    "#TypeError: '>=' not supported between instances of 'str' and 'int'\n",
    "\n",
    "print(\"Welcome to Bamboo\\n\")\n",
    "#using int() to specify user input is integer\n",
    "user_age = int(input(\"How old are you? \")) \n",
    "\n",
    "if user_age>=18:\n",
    "    print(\"\\nYou can old enough to enter\")\n",
    "else:\n",
    "    print(\"\\nSorry, you aren't old enough\")"
   ]
  },
  {
   "cell_type": "markdown",
   "metadata": {},
   "source": [
    "#### 2. Index Error"
   ]
  },
  {
   "cell_type": "code",
   "execution_count": 121,
   "metadata": {},
   "outputs": [
    {
     "name": "stdout",
     "output_type": "stream",
     "text": [
      "Shopping list\n",
      "\n"
     ]
    },
    {
     "ename": "IndexError",
     "evalue": "list index out of range",
     "output_type": "error",
     "traceback": [
      "\u001b[1;31m---------------------------------------------------------------------------\u001b[0m",
      "\u001b[1;31mIndexError\u001b[0m                                Traceback (most recent call last)",
      "Input \u001b[1;32mIn [121]\u001b[0m, in \u001b[0;36m<cell line: 5>\u001b[1;34m()\u001b[0m\n\u001b[0;32m      3\u001b[0m \u001b[38;5;28mprint\u001b[39m(\u001b[38;5;124m\"\u001b[39m\u001b[38;5;124mShopping list\u001b[39m\u001b[38;5;130;01m\\n\u001b[39;00m\u001b[38;5;124m\"\u001b[39m)\n\u001b[0;32m      4\u001b[0m shopping_list \u001b[38;5;241m=\u001b[39m [\u001b[38;5;124m\"\u001b[39m\u001b[38;5;124mCoat\u001b[39m\u001b[38;5;124m\"\u001b[39m, \u001b[38;5;124m\"\u001b[39m\u001b[38;5;124mShirt\u001b[39m\u001b[38;5;124m\"\u001b[39m, \u001b[38;5;124m\"\u001b[39m\u001b[38;5;124mShoes\u001b[39m\u001b[38;5;124m\"\u001b[39m, \u001b[38;5;124m\"\u001b[39m\u001b[38;5;124mWatch\u001b[39m\u001b[38;5;124m\"\u001b[39m, \u001b[38;5;124m\"\u001b[39m\u001b[38;5;124mTie\u001b[39m\u001b[38;5;124m\"\u001b[39m]\n\u001b[1;32m----> 5\u001b[0m \u001b[38;5;28mprint\u001b[39m(\u001b[43mshopping_list\u001b[49m\u001b[43m[\u001b[49m\u001b[38;5;241;43m5\u001b[39;49m\u001b[43m]\u001b[49m)\n",
      "\u001b[1;31mIndexError\u001b[0m: list index out of range"
     ]
    }
   ],
   "source": [
    "#IndexError: list index out of range\n",
    "#“List index out of range” error occurs in Python when we try to access an undefined element from the list.\n",
    "print(\"Shopping list\\n\")\n",
    "shopping_list = [\"Coat\", \"Shirt\", \"Shoes\", \"Watch\", \"Tie\"]\n",
    "print(shopping_list[5]) #incorrect indexing"
   ]
  },
  {
   "cell_type": "code",
   "execution_count": 122,
   "metadata": {},
   "outputs": [
    {
     "name": "stdout",
     "output_type": "stream",
     "text": [
      "Shopping list\n",
      "\n",
      "Tie\n"
     ]
    }
   ],
   "source": [
    "#Fixing - IndexError: list index out of range\n",
    "print(\"Shopping list\\n\")\n",
    "shopping_list = [\"Coat\", \"Shirt\", \"Shoes\", \"Watch\", \"Tie\"]\n",
    "print(shopping_list[4]) #correct indexing\n"
   ]
  },
  {
   "cell_type": "markdown",
   "metadata": {},
   "source": [
    "#### 3. Zero Division Error"
   ]
  },
  {
   "cell_type": "code",
   "execution_count": 22,
   "metadata": {},
   "outputs": [
    {
     "ename": "ZeroDivisionError",
     "evalue": "division by zero",
     "output_type": "error",
     "traceback": [
      "\u001b[1;31m---------------------------------------------------------------------------\u001b[0m",
      "\u001b[1;31mZeroDivisionError\u001b[0m                         Traceback (most recent call last)",
      "Input \u001b[1;32mIn [22]\u001b[0m, in \u001b[0;36m<cell line: 3>\u001b[1;34m()\u001b[0m\n\u001b[0;32m      1\u001b[0m alpha \u001b[38;5;241m=\u001b[39m \u001b[38;5;241m0\u001b[39m\n\u001b[0;32m      2\u001b[0m beta \u001b[38;5;241m=\u001b[39m \u001b[38;5;241m1\u001b[39m\n\u001b[1;32m----> 3\u001b[0m gamma \u001b[38;5;241m=\u001b[39m \u001b[43mbeta\u001b[49m\u001b[38;5;241;43m/\u001b[39;49m\u001b[43malpha\u001b[49m\n",
      "\u001b[1;31mZeroDivisionError\u001b[0m: division by zero"
     ]
    }
   ],
   "source": [
    "alpha = 0\n",
    "beta = 1\n",
    "gamma = beta/alpha"
   ]
  },
  {
   "cell_type": "code",
   "execution_count": 129,
   "metadata": {},
   "outputs": [
    {
     "name": "stdout",
     "output_type": "stream",
     "text": [
      "0\n"
     ]
    }
   ],
   "source": [
    "#ZeroDivisionError: division by zero\n",
    "#\"ZeroDivisionError: float division by zero\" occurs when we try to divide a floating-point number by 0. \n",
    "# To solve the error, use an if statement to check if the number you are dividing by is not zero, or handle the error in a try/except block.\n",
    "alpha = 0\n",
    "beta = 20\n",
    "try:\n",
    "    gamma = beta/alpha\n",
    "except ZeroDivisionError:\n",
    "    gamma = 0\n",
    "\n",
    "print(gamma)  #0"
   ]
  },
  {
   "cell_type": "markdown",
   "metadata": {},
   "source": [
    "## 3. Logical Error"
   ]
  },
  {
   "cell_type": "markdown",
   "metadata": {},
   "source": [
    "1. A logical error is an error in a program that causes it to operate incorrectly \n",
    "\n",
    "2. A logical error occurs due to a fault in the algorithms\n",
    "\n",
    "3. It is comparatively difficult to identify a logical error.\n",
    "\n",
    "4. The programmer has to detect the error by himself."
   ]
  },
  {
   "cell_type": "markdown",
   "metadata": {},
   "source": [
    "Logical errors, also known as semantic errors, cause the programme to behave incorrectly but do not usually cause the programme to crash. A programme with logic errors, unlike one with syntax errors, can be run, but it does not function as intended."
   ]
  },
  {
   "cell_type": "markdown",
   "metadata": {},
   "source": [
    "#### 1. Example (Average of number)"
   ]
  },
  {
   "cell_type": "code",
   "execution_count": 100,
   "metadata": {},
   "outputs": [
    {
     "name": "stdout",
     "output_type": "stream",
     "text": [
      "Enter a number: 6\n",
      "Enter a number: 6\n",
      "Enter a number: 6\n",
      "\n",
      "The average of the numbers is: 14.0 \n",
      "\n",
      "14.0 Average is incorrect due to logical error, (the division is evaluated before addition) \n"
     ]
    }
   ],
   "source": [
    "num1 = float(input('Enter a number: '))\n",
    "num2 = float(input('Enter a number: '))\n",
    "num3 = float(input('Enter a number: '))\n",
    "\n",
    "#the order of operations in arithmetic (the division is evaluated before addition) \n",
    "#the program will not give the correct answer\n",
    "average = num1+num2+num3/3\n",
    "print('\\nThe average of the numbers is:',average,\"\\n\")\n",
    "print(average, \"Average is incorrect due to logical error, (the division is evaluated before addition) \")"
   ]
  },
  {
   "cell_type": "markdown",
   "metadata": {},
   "source": [
    "#### Example 1 Solved"
   ]
  },
  {
   "cell_type": "code",
   "execution_count": 101,
   "metadata": {},
   "outputs": [
    {
     "name": "stdout",
     "output_type": "stream",
     "text": [
      "Enter a number: 6\n",
      "Enter a number: 6\n",
      "Enter a number: 6\n",
      "\n",
      "The average of the numbers is: 6.0\n"
     ]
    }
   ],
   "source": [
    "num1 = float(input('Enter a number: '))\n",
    "num2 = float(input('Enter a number: '))\n",
    "num3 = float(input('Enter a number: '))\n",
    "\n",
    "#tuple has been used due to immutable nature\n",
    "#the itmes are surrounded by paranthesis for addition of all numbers then division by 3\n",
    "average = (num1+num2+num3)/3\n",
    "print('\\nThe average of the numbers is:',average)"
   ]
  },
  {
   "cell_type": "markdown",
   "metadata": {},
   "source": [
    "#### Example 2  (Logical error with if and else statement)"
   ]
  },
  {
   "cell_type": "code",
   "execution_count": 109,
   "metadata": {},
   "outputs": [
    {
     "name": "stdout",
     "output_type": "stream",
     "text": [
      "What is your age? : 23\n",
      "You are not an adult\n"
     ]
    }
   ],
   "source": [
    "age = int(input(\"What is your age? : \"))\n",
    "if age <= 18: #incorrect use of logical operator\n",
    "    print(\"You are an adult\")\n",
    "else:\n",
    "    print(\"You are not an adult\")"
   ]
  },
  {
   "cell_type": "markdown",
   "metadata": {},
   "source": [
    "#### Example 2 solved"
   ]
  },
  {
   "cell_type": "code",
   "execution_count": 110,
   "metadata": {
    "scrolled": true
   },
   "outputs": [
    {
     "name": "stdout",
     "output_type": "stream",
     "text": [
      "What is your age? : 23\n",
      "You are an adult\n"
     ]
    }
   ],
   "source": [
    "age = int(input(\"What is your age? : \"))\n",
    "if age >= 18: #correct use of logical operator\n",
    "    print(\"You are an adult\")\n",
    "else:\n",
    "    print(\"You are not an adult\")"
   ]
  }
 ],
 "metadata": {
  "kernelspec": {
   "display_name": "Python 3 (ipykernel)",
   "language": "python",
   "name": "python3"
  },
  "language_info": {
   "codemirror_mode": {
    "name": "ipython",
    "version": 3
   },
   "file_extension": ".py",
   "mimetype": "text/x-python",
   "name": "python",
   "nbconvert_exporter": "python",
   "pygments_lexer": "ipython3",
   "version": "3.9.12"
  }
 },
 "nbformat": 4,
 "nbformat_minor": 2
}
