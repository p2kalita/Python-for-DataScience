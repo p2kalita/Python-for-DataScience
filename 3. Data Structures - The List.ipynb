{
 "cells": [
  {
   "cell_type": "markdown",
   "id": "040117a6",
   "metadata": {},
   "source": [
    "## Beginner Data Structures - The List"
   ]
  },
  {
   "cell_type": "markdown",
   "id": "4c25ca43",
   "metadata": {},
   "source": [
    "Hemant Thapa"
   ]
  },
  {
   "cell_type": "markdown",
   "id": "2929c6d3",
   "metadata": {},
   "source": [
    "Python Lists are just like dynamically sized arrays, declared in other languages (vector in C++ and ArrayList in Java). In simple language, a list is a collection of things, enclosed in [ ] and separated by commas."
   ]
  },
  {
   "cell_type": "markdown",
   "id": "6acfd4d4",
   "metadata": {},
   "source": [
    "#### 1. CREATING A LIST"
   ]
  },
  {
   "cell_type": "markdown",
   "id": "277e05f8",
   "metadata": {},
   "source": [
    "Lists are the simplest containers that are an integral part of the Python language. Lists need not be homogeneous always which makes it the most powerful tool in Python. A single list may contain DataTypes like Integers, Strings, as well as Objects. Lists are mutable, and hence, they can be altered even after their creation."
   ]
  },
  {
   "cell_type": "code",
   "execution_count": 300,
   "id": "01a1e6ed",
   "metadata": {},
   "outputs": [
    {
     "data": {
      "text/plain": [
       "['Harry', 'Vikram', 'Dhanraj', 'Shree', 'Amir', 'Roger', 'Adesh']"
      ]
     },
     "execution_count": 300,
     "metadata": {},
     "output_type": "execute_result"
    }
   ],
   "source": [
    "string_list = [\"Harry\", \"Vikram\", \"Dhanraj\", \"Shree\", \"Amir\", \"Roger\", \"Adesh\"]\n",
    "string_list"
   ]
  },
  {
   "cell_type": "markdown",
   "id": "89d3ded1",
   "metadata": {},
   "source": [
    "#### 2.INDEXING LIST"
   ]
  },
  {
   "cell_type": "markdown",
   "id": "edfde3e8",
   "metadata": {},
   "source": [
    "In order to access the list items refer to the index number. Use the index operator [ ] to access an item in a list. The index must be an integer. Nested lists are accessed using nested indexing. \n",
    "\n"
   ]
  },
  {
   "cell_type": "code",
   "execution_count": 301,
   "id": "c2f1ef95",
   "metadata": {},
   "outputs": [
    {
     "data": {
      "text/plain": [
       "'Harry'"
      ]
     },
     "execution_count": 301,
     "metadata": {},
     "output_type": "execute_result"
    }
   ],
   "source": [
    "string_list[0]"
   ]
  },
  {
   "cell_type": "code",
   "execution_count": 302,
   "id": "0cb28b7d",
   "metadata": {},
   "outputs": [
    {
     "data": {
      "text/plain": [
       "'Adesh'"
      ]
     },
     "execution_count": 302,
     "metadata": {},
     "output_type": "execute_result"
    }
   ],
   "source": [
    "string_list[6]"
   ]
  },
  {
   "cell_type": "markdown",
   "id": "ebd021e4",
   "metadata": {},
   "source": [
    "In Python, negative sequence indexes represent positions from the end of the array. Instead of having to compute the offset as in List[len(List)-3], it is enough to just write List[-3]. Negative indexing means beginning from the end, -1 refers to the last item, -2 refers to the second-last item, etc."
   ]
  },
  {
   "cell_type": "code",
   "execution_count": 303,
   "id": "c76bac53",
   "metadata": {},
   "outputs": [
    {
     "data": {
      "text/plain": [
       "'Adesh'"
      ]
     },
     "execution_count": 303,
     "metadata": {},
     "output_type": "execute_result"
    }
   ],
   "source": [
    "string_list[-1]"
   ]
  },
  {
   "cell_type": "code",
   "execution_count": 304,
   "id": "7064f8f6",
   "metadata": {},
   "outputs": [
    {
     "data": {
      "text/plain": [
       "True"
      ]
     },
     "execution_count": 304,
     "metadata": {},
     "output_type": "execute_result"
    }
   ],
   "source": [
    "string_list[6] == string_list[-1]"
   ]
  },
  {
   "cell_type": "markdown",
   "id": "67f73656",
   "metadata": {},
   "source": [
    "#### 3. SLICING LIST"
   ]
  },
  {
   "cell_type": "markdown",
   "id": "1850e7ba",
   "metadata": {},
   "source": [
    "We can get substrings and sublists using a slice. In Python List, there are multiple ways to print the whole list with all the elements, but to print a specific range of elements from the list, we use the Slice operation. "
   ]
  },
  {
   "cell_type": "code",
   "execution_count": 314,
   "id": "3f1764de",
   "metadata": {},
   "outputs": [
    {
     "data": {
      "text/plain": [
       "['Harry']"
      ]
     },
     "execution_count": 314,
     "metadata": {},
     "output_type": "execute_result"
    }
   ],
   "source": [
    "string_list[0:1]"
   ]
  },
  {
   "cell_type": "code",
   "execution_count": 315,
   "id": "d5444c4e",
   "metadata": {},
   "outputs": [
    {
     "data": {
      "text/plain": [
       "['Vikram', 'Dhanraj', 'Shree']"
      ]
     },
     "execution_count": 315,
     "metadata": {},
     "output_type": "execute_result"
    }
   ],
   "source": [
    "string_list[1:4]"
   ]
  },
  {
   "cell_type": "code",
   "execution_count": 324,
   "id": "21bc32c9",
   "metadata": {},
   "outputs": [
    {
     "data": {
      "text/plain": [
       "['Harry', 'Vikram', 'Dhanraj', 'Shree', 'Amir', 'Roger']"
      ]
     },
     "execution_count": 324,
     "metadata": {},
     "output_type": "execute_result"
    }
   ],
   "source": [
    "string_list[0:-1]"
   ]
  },
  {
   "cell_type": "markdown",
   "id": "3ea142cb",
   "metadata": {},
   "source": [
    "#### 4.CHANGING ELEMENTS IN A LIST"
   ]
  },
  {
   "cell_type": "code",
   "execution_count": 270,
   "id": "8e163cf8",
   "metadata": {},
   "outputs": [],
   "source": [
    "string_list[0] = \"Hemant\""
   ]
  },
  {
   "cell_type": "code",
   "execution_count": 271,
   "id": "dea01e63",
   "metadata": {},
   "outputs": [
    {
     "data": {
      "text/plain": [
       "['Hemant', 'Vikram', 'Dhanraj', 'Shree', 'Amir', 'Roger', 'Adesh']"
      ]
     },
     "execution_count": 271,
     "metadata": {},
     "output_type": "execute_result"
    }
   ],
   "source": [
    "string_list"
   ]
  },
  {
   "cell_type": "code",
   "execution_count": 272,
   "id": "fa2b7c37",
   "metadata": {},
   "outputs": [],
   "source": [
    "string_list[0] = \"Hemant Thapa\""
   ]
  },
  {
   "cell_type": "code",
   "execution_count": 273,
   "id": "1dfbe8f7",
   "metadata": {},
   "outputs": [],
   "source": [
    "string_list[-1] = \"Adesh Thakur\""
   ]
  },
  {
   "cell_type": "code",
   "execution_count": 274,
   "id": "696d3a2f",
   "metadata": {},
   "outputs": [
    {
     "data": {
      "text/plain": [
       "['Hemant Thapa', 'Vikram', 'Dhanraj', 'Shree', 'Amir', 'Roger', 'Adesh Thakur']"
      ]
     },
     "execution_count": 274,
     "metadata": {},
     "output_type": "execute_result"
    }
   ],
   "source": [
    "string_list"
   ]
  },
  {
   "cell_type": "markdown",
   "id": "0a4e094f",
   "metadata": {},
   "source": [
    "#### 5. ADDING ELEMENTS IN A LIST"
   ]
  },
  {
   "cell_type": "markdown",
   "id": "e01be083",
   "metadata": {},
   "source": [
    "Elements can be added to the List by using the built-in append() function. Only one element at a time can be added to the list by using the append() method, for the addition of multiple elements with the append() method, loops are used. Tuples can also be added to the list with the use of the append method because tuples are immutable. Unlike Sets, Lists can also be added to the existing list with the use of the append() method."
   ]
  },
  {
   "cell_type": "code",
   "execution_count": 275,
   "id": "8574a3cb",
   "metadata": {},
   "outputs": [
    {
     "data": {
      "text/plain": [
       "['Hemant Thapa', 'Vikram', 'Dhanraj', 'Shree', 'Amir', 'Roger', 'Adesh Thakur']"
      ]
     },
     "execution_count": 275,
     "metadata": {},
     "output_type": "execute_result"
    }
   ],
   "source": [
    "string_list"
   ]
  },
  {
   "cell_type": "code",
   "execution_count": 276,
   "id": "f02fb002",
   "metadata": {},
   "outputs": [],
   "source": [
    "string_list.append(\"Suvish\")"
   ]
  },
  {
   "cell_type": "code",
   "execution_count": 277,
   "id": "8ad85088",
   "metadata": {
    "scrolled": false
   },
   "outputs": [
    {
     "name": "stdout",
     "output_type": "stream",
     "text": [
      "['Hemant Thapa', 'Vikram', 'Dhanraj', 'Shree', 'Amir', 'Roger', 'Adesh Thakur', 'Suvish']\n"
     ]
    }
   ],
   "source": [
    "print(string_list)"
   ]
  },
  {
   "cell_type": "markdown",
   "id": "5078cc37",
   "metadata": {},
   "source": [
    "append() method only works for the addition of elements at the end of the List, for the addition of elements at the desired position, insert() method is used. Unlike append() which takes only one argument, the insert() method requires two arguments(position, value). "
   ]
  },
  {
   "cell_type": "code",
   "execution_count": 278,
   "id": "d94c1c13",
   "metadata": {},
   "outputs": [
    {
     "data": {
      "text/plain": [
       "['Harry world',\n",
       " 'Hemant Thapa',\n",
       " 'Vikram',\n",
       " 'Dhanraj',\n",
       " 'Shree',\n",
       " 'Amir',\n",
       " 'Roger',\n",
       " 'Adesh Thakur',\n",
       " 'Suvish']"
      ]
     },
     "execution_count": 278,
     "metadata": {},
     "output_type": "execute_result"
    }
   ],
   "source": [
    "string_list.insert(0, \"Harry world\")\n",
    "string_list"
   ]
  },
  {
   "cell_type": "markdown",
   "id": "37383ee5",
   "metadata": {},
   "source": [
    "Other than append() and insert() methods, there’s one more method for the Addition of elements, extend(), this method is used to add multiple elements at the same time at the end of the list."
   ]
  },
  {
   "cell_type": "code",
   "execution_count": 279,
   "id": "3ea21d9d",
   "metadata": {},
   "outputs": [],
   "source": [
    "string_list.extend([\"Madi\"])"
   ]
  },
  {
   "cell_type": "code",
   "execution_count": 280,
   "id": "8db06461",
   "metadata": {},
   "outputs": [
    {
     "data": {
      "text/plain": [
       "['Harry world',\n",
       " 'Hemant Thapa',\n",
       " 'Vikram',\n",
       " 'Dhanraj',\n",
       " 'Shree',\n",
       " 'Amir',\n",
       " 'Roger',\n",
       " 'Adesh Thakur',\n",
       " 'Suvish',\n",
       " 'Madi']"
      ]
     },
     "execution_count": 280,
     "metadata": {},
     "output_type": "execute_result"
    }
   ],
   "source": [
    "string_list"
   ]
  },
  {
   "cell_type": "markdown",
   "id": "de203675",
   "metadata": {},
   "source": [
    "#### 6. DELETING OR REMOVING ELEMENTS FROM A LIST"
   ]
  },
  {
   "cell_type": "markdown",
   "id": "0d37843d",
   "metadata": {},
   "source": [
    "pop() function can also be used to remove and return an element from the list, but by default it removes only the last element of the list, to remove an element from a specific position of the List, the index of the element is passed as an argument to the pop() method."
   ]
  },
  {
   "cell_type": "code",
   "execution_count": 281,
   "id": "c1b53501",
   "metadata": {
    "scrolled": true
   },
   "outputs": [
    {
     "data": {
      "text/plain": [
       "'Madi'"
      ]
     },
     "execution_count": 281,
     "metadata": {},
     "output_type": "execute_result"
    }
   ],
   "source": [
    "string_list.pop()"
   ]
  },
  {
   "cell_type": "code",
   "execution_count": 282,
   "id": "1bc95b8e",
   "metadata": {},
   "outputs": [
    {
     "data": {
      "text/plain": [
       "'Roger'"
      ]
     },
     "execution_count": 282,
     "metadata": {},
     "output_type": "execute_result"
    }
   ],
   "source": [
    "string_list.pop(6)"
   ]
  },
  {
   "cell_type": "code",
   "execution_count": 283,
   "id": "35b690cc",
   "metadata": {},
   "outputs": [
    {
     "data": {
      "text/plain": [
       "['Harry world',\n",
       " 'Hemant Thapa',\n",
       " 'Vikram',\n",
       " 'Dhanraj',\n",
       " 'Shree',\n",
       " 'Amir',\n",
       " 'Adesh Thakur',\n",
       " 'Suvish']"
      ]
     },
     "execution_count": 283,
     "metadata": {},
     "output_type": "execute_result"
    }
   ],
   "source": [
    "string_list"
   ]
  },
  {
   "cell_type": "markdown",
   "id": "d8f96dfb",
   "metadata": {},
   "source": [
    "Elements can be removed from the List by using the built-in remove() function but an Error arises if the element doesn’t exist in the list. Remove() method only removes one element at a time, to remove a range of elements, the iterator is used. The remove() method removes the specified item."
   ]
  },
  {
   "cell_type": "code",
   "execution_count": 284,
   "id": "5c5de5ef",
   "metadata": {},
   "outputs": [],
   "source": [
    "string_list.remove(\"Vikram\")"
   ]
  },
  {
   "cell_type": "code",
   "execution_count": 285,
   "id": "77145b19",
   "metadata": {},
   "outputs": [
    {
     "data": {
      "text/plain": [
       "['Harry world',\n",
       " 'Hemant Thapa',\n",
       " 'Dhanraj',\n",
       " 'Shree',\n",
       " 'Amir',\n",
       " 'Adesh Thakur',\n",
       " 'Suvish']"
      ]
     },
     "execution_count": 285,
     "metadata": {},
     "output_type": "execute_result"
    }
   ],
   "source": [
    "string_list"
   ]
  },
  {
   "cell_type": "markdown",
   "id": "af3880df",
   "metadata": {},
   "source": [
    "#### 7. LOOPING OVER LISTS"
   ]
  },
  {
   "cell_type": "code",
   "execution_count": 286,
   "id": "e832a0bf",
   "metadata": {},
   "outputs": [
    {
     "data": {
      "text/plain": [
       "['PIZZA', 'PASTA', 'FISH AND CHIPS', 'CHICKEN BURGER']"
      ]
     },
     "execution_count": 286,
     "metadata": {},
     "output_type": "execute_result"
    }
   ],
   "source": [
    "food = [\"pizza\",\"pasta\",\"fish and chips\", \"chicken Burger\"]\n",
    "food_list = []\n",
    "for i in food:\n",
    "    food_list.append(i.upper())\n",
    "food_list"
   ]
  },
  {
   "cell_type": "code",
   "execution_count": 287,
   "id": "40fac337",
   "metadata": {},
   "outputs": [
    {
     "data": {
      "text/plain": [
       "['Pizza', 'Pasta', 'Fish And Chips', 'Chicken Burger']"
      ]
     },
     "execution_count": 287,
     "metadata": {},
     "output_type": "execute_result"
    }
   ],
   "source": [
    "food = [\"pizza\",\"pasta\",\"fish and chips\", \"chicken Burger\"]\n",
    "food_list = []\n",
    "for i in food:\n",
    "    food_list.append(i.title())\n",
    "food_list"
   ]
  },
  {
   "cell_type": "code",
   "execution_count": 288,
   "id": "323a5d4e",
   "metadata": {},
   "outputs": [
    {
     "name": "stdout",
     "output_type": "stream",
     "text": [
      "pizza\n",
      "pasta\n",
      "fish and chips\n",
      "chicken Burger\n"
     ]
    }
   ],
   "source": [
    "food = [\"pizza\",\"pasta\",\"fish and chips\", \"chicken Burger\"]\n",
    "i = 0\n",
    "while i<len(food):\n",
    "    print(food[i])\n",
    "    i+=1"
   ]
  },
  {
   "cell_type": "code",
   "execution_count": 289,
   "id": "3a43fe5a",
   "metadata": {},
   "outputs": [
    {
     "name": "stdout",
     "output_type": "stream",
     "text": [
      "1 pizza\n",
      "2 pasta\n",
      "3 fish and chips\n",
      "4 chicken Burger\n"
     ]
    }
   ],
   "source": [
    "food = [\"pizza\",\"pasta\",\"fish and chips\", \"chicken Burger\"]\n",
    "for i,j in enumerate (food):\n",
    "    print(i+1,j)"
   ]
  },
  {
   "cell_type": "markdown",
   "id": "66da7a7e",
   "metadata": {},
   "source": [
    "#### 8. CHECKING SOMETHING IN LIST"
   ]
  },
  {
   "cell_type": "code",
   "execution_count": 290,
   "id": "7328a788",
   "metadata": {},
   "outputs": [
    {
     "name": "stdout",
     "output_type": "stream",
     "text": [
      "Enter for search: \n",
      "\n",
      "The item isn't is available\n"
     ]
    }
   ],
   "source": [
    "food = [\"pizza\",\"pasta\",\"fish and chips\", \"chicken Burger\"]\n",
    "user_input = input(\"Enter for search: \").lower()\n",
    "if user_input in food:\n",
    "    print(\"\\nThe item is available\")\n",
    "else:\n",
    "    print(\"\\nThe item isn't is available\")"
   ]
  },
  {
   "cell_type": "markdown",
   "id": "1d8acafe",
   "metadata": {},
   "source": [
    "#### 9. QUICK POPULATING  LISTS"
   ]
  },
  {
   "cell_type": "code",
   "execution_count": 291,
   "id": "80209648",
   "metadata": {},
   "outputs": [
    {
     "data": {
      "text/plain": [
       "[7, 7, 7, 7, 7]"
      ]
     },
     "execution_count": 291,
     "metadata": {},
     "output_type": "execute_result"
    }
   ],
   "source": [
    "number = [7]*5\n",
    "number"
   ]
  },
  {
   "cell_type": "code",
   "execution_count": 292,
   "id": "22d05e08",
   "metadata": {},
   "outputs": [
    {
     "data": {
      "text/plain": [
       "[7, 7, 7, 7, 7, 12]"
      ]
     },
     "execution_count": 292,
     "metadata": {},
     "output_type": "execute_result"
    }
   ],
   "source": [
    "number.append(12)\n",
    "number"
   ]
  },
  {
   "cell_type": "code",
   "execution_count": 293,
   "id": "84f42f17",
   "metadata": {},
   "outputs": [
    {
     "data": {
      "text/plain": [
       "[[7, 7, 7, 7, 7, 12]]"
      ]
     },
     "execution_count": 293,
     "metadata": {},
     "output_type": "execute_result"
    }
   ],
   "source": [
    "var = []\n",
    "var.append(number)\n",
    "var"
   ]
  },
  {
   "cell_type": "code",
   "execution_count": 294,
   "id": "9aafe017",
   "metadata": {},
   "outputs": [
    {
     "data": {
      "text/plain": [
       "['Bob', 'Bob', 'Bob', 'Bob']"
      ]
     },
     "execution_count": 294,
     "metadata": {},
     "output_type": "execute_result"
    }
   ],
   "source": [
    "name = [\"Bob\"]*4\n",
    "name"
   ]
  },
  {
   "cell_type": "code",
   "execution_count": 295,
   "id": "3a86d4b7",
   "metadata": {},
   "outputs": [
    {
     "data": {
      "text/plain": [
       "[[7, 7, 7, 7, 7, 12], ['Bob', 'Bob', 'Bob', 'Bob']]"
      ]
     },
     "execution_count": 295,
     "metadata": {},
     "output_type": "execute_result"
    }
   ],
   "source": [
    "var.append(name)\n",
    "var"
   ]
  },
  {
   "cell_type": "code",
   "execution_count": 296,
   "id": "295435ec",
   "metadata": {},
   "outputs": [
    {
     "data": {
      "text/plain": [
       "[6, 9, 6, 9]"
      ]
     },
     "execution_count": 296,
     "metadata": {},
     "output_type": "execute_result"
    }
   ],
   "source": [
    "num1 = 6\n",
    "num2 = 9\n",
    "num3 = [num1,num2]*2\n",
    "num3"
   ]
  },
  {
   "cell_type": "code",
   "execution_count": 297,
   "id": "b6e33233",
   "metadata": {
    "scrolled": true
   },
   "outputs": [
    {
     "data": {
      "text/plain": [
       "[[7, 7, 7, 7, 7, 12], ['Bob', 'Bob', 'Bob', 'Bob'], [6, 9, 6, 9]]"
      ]
     },
     "execution_count": 297,
     "metadata": {},
     "output_type": "execute_result"
    }
   ],
   "source": [
    "var.append(num3)\n",
    "var"
   ]
  },
  {
   "cell_type": "markdown",
   "id": "b159f5a2",
   "metadata": {},
   "source": [
    "#### 10. CASTING TO A LIST"
   ]
  },
  {
   "cell_type": "code",
   "execution_count": 298,
   "id": "6b2f1cc9",
   "metadata": {},
   "outputs": [
    {
     "data": {
      "text/plain": [
       "['H', 'e', 'l', 'l', 'o', ' ', 'w', 'o', 'r', 'l', 'd']"
      ]
     },
     "execution_count": 298,
     "metadata": {},
     "output_type": "execute_result"
    }
   ],
   "source": [
    "string = \"Hello world\"\n",
    "string_list = list(string)\n",
    "string_list"
   ]
  },
  {
   "cell_type": "code",
   "execution_count": 299,
   "id": "bbe8f3fd",
   "metadata": {},
   "outputs": [
    {
     "data": {
      "text/plain": [
       "[0, 1, 2, 3, 4, 5, 6, 7, 8, 9, 10]"
      ]
     },
     "execution_count": 299,
     "metadata": {},
     "output_type": "execute_result"
    }
   ],
   "source": [
    "num_list= list(range(0,11))\n",
    "num_list"
   ]
  },
  {
   "cell_type": "markdown",
   "id": "2fa73278",
   "metadata": {},
   "source": [
    "#### 11. TASK 1"
   ]
  },
  {
   "cell_type": "code",
   "execution_count": 134,
   "id": "cc8c4a76",
   "metadata": {},
   "outputs": [
    {
     "name": "stdout",
     "output_type": "stream",
     "text": [
      "\n",
      "My first friend in list: Sanket Kamble\n",
      "\n",
      "My last friend in list: Shaina Arora\n",
      "\n",
      "My Length of the list: 3\n",
      "\n",
      "Friends Ages: Sanket Kamble is 25, Shaina Arora is 23, and Alex Neil is 71\n"
     ]
    }
   ],
   "source": [
    "#friends_name list contains my friends First and Last name\n",
    "friends_name = [\"Sanket Kamble\", \"Shaina Arora\",\"Alex Neil\"]\n",
    "#printing first friend from list\n",
    "print(f\"\\nMy first friend in list: {friends_name[0]}\")\n",
    "#printing last friend from list\n",
    "print(f\"\\nMy last friend in list: {friends_name[1]}\")\n",
    "#printing length of list\n",
    "print(f\"\\nMy Length of the list: {len(friends_name)}\")\n",
    "\n",
    "#defining friends name as varibale and storing friends age according to their name\n",
    "sanket_kamble = 25 #first friend age\n",
    "shaina_arrora = 23 #second friend age\n",
    "alex_neil = 71 #third  friend age\n",
    "friends_ages = [sanket_kamble, shaina_arrora, alex_neil] #friends age list storing value of each friends\n",
    "#prinitng result\n",
    "print(f\"\\nFriends Ages: {friends_name[0]} is {friends_ages[0]}, {friends_name[1]} is {friends_ages[1]}, and {friends_name[2]} is {friends_ages[2]}\")"
   ]
  },
  {
   "cell_type": "markdown",
   "id": "ddbeaec2",
   "metadata": {},
   "source": [
    "#### 12. TASK 2"
   ]
  },
  {
   "cell_type": "markdown",
   "id": "dff602f0",
   "metadata": {},
   "source": [
    "Python List comprehensions are used for creating new lists from other iterables like tuples, strings, arrays, lists, etc. A list comprehension consists of brackets containing the expression, which is executed for each element along with the for loop to iterate over each element."
   ]
  },
  {
   "cell_type": "markdown",
   "id": "47b4d796",
   "metadata": {},
   "source": [
    "newList = [ expression(element) for element in oldList if condition ]"
   ]
  },
  {
   "cell_type": "code",
   "execution_count": 147,
   "id": "9de11303",
   "metadata": {},
   "outputs": [
    {
     "name": "stdout",
     "output_type": "stream",
     "text": [
      "\n",
      "Number from 1 to 1000: [1, 2, 3, 4, 5, 6, 7, 8, 9, 10, 11, 12, 13, 14, 15, 16, 17, 18, 19, 20, 21, 22, 23, 24, 25, 26, 27, 28, 29, 30, 31, 32, 33, 34, 35, 36, 37, 38, 39, 40, 41, 42, 43, 44, 45, 46, 47, 48, 49, 50, 51, 52, 53, 54, 55, 56, 57, 58, 59, 60, 61, 62, 63, 64, 65, 66, 67, 68, 69, 70, 71, 72, 73, 74, 75, 76, 77, 78, 79, 80, 81, 82, 83, 84, 85, 86, 87, 88, 89, 90, 91, 92, 93, 94, 95, 96, 97, 98, 99, 100, 101, 102, 103, 104, 105, 106, 107, 108, 109, 110, 111, 112, 113, 114, 115, 116, 117, 118, 119, 120, 121, 122, 123, 124, 125, 126, 127, 128, 129, 130, 131, 132, 133, 134, 135, 136, 137, 138, 139, 140, 141, 142, 143, 144, 145, 146, 147, 148, 149, 150, 151, 152, 153, 154, 155, 156, 157, 158, 159, 160, 161, 162, 163, 164, 165, 166, 167, 168, 169, 170, 171, 172, 173, 174, 175, 176, 177, 178, 179, 180, 181, 182, 183, 184, 185, 186, 187, 188, 189, 190, 191, 192, 193, 194, 195, 196, 197, 198, 199, 200, 201, 202, 203, 204, 205, 206, 207, 208, 209, 210, 211, 212, 213, 214, 215, 216, 217, 218, 219, 220, 221, 222, 223, 224, 225, 226, 227, 228, 229, 230, 231, 232, 233, 234, 235, 236, 237, 238, 239, 240, 241, 242, 243, 244, 245, 246, 247, 248, 249, 250, 251, 252, 253, 254, 255, 256, 257, 258, 259, 260, 261, 262, 263, 264, 265, 266, 267, 268, 269, 270, 271, 272, 273, 274, 275, 276, 277, 278, 279, 280, 281, 282, 283, 284, 285, 286, 287, 288, 289, 290, 291, 292, 293, 294, 295, 296, 297, 298, 299, 300, 301, 302, 303, 304, 305, 306, 307, 308, 309, 310, 311, 312, 313, 314, 315, 316, 317, 318, 319, 320, 321, 322, 323, 324, 325, 326, 327, 328, 329, 330, 331, 332, 333, 334, 335, 336, 337, 338, 339, 340, 341, 342, 343, 344, 345, 346, 347, 348, 349, 350, 351, 352, 353, 354, 355, 356, 357, 358, 359, 360, 361, 362, 363, 364, 365, 366, 367, 368, 369, 370, 371, 372, 373, 374, 375, 376, 377, 378, 379, 380, 381, 382, 383, 384, 385, 386, 387, 388, 389, 390, 391, 392, 393, 394, 395, 396, 397, 398, 399, 400, 401, 402, 403, 404, 405, 406, 407, 408, 409, 410, 411, 412, 413, 414, 415, 416, 417, 418, 419, 420, 421, 422, 423, 424, 425, 426, 427, 428, 429, 430, 431, 432, 433, 434, 435, 436, 437, 438, 439, 440, 441, 442, 443, 444, 445, 446, 447, 448, 449, 450, 451, 452, 453, 454, 455, 456, 457, 458, 459, 460, 461, 462, 463, 464, 465, 466, 467, 468, 469, 470, 471, 472, 473, 474, 475, 476, 477, 478, 479, 480, 481, 482, 483, 484, 485, 486, 487, 488, 489, 490, 491, 492, 493, 494, 495, 496, 497, 498, 499, 500, 501, 502, 503, 504, 505, 506, 507, 508, 509, 510, 511, 512, 513, 514, 515, 516, 517, 518, 519, 520, 521, 522, 523, 524, 525, 526, 527, 528, 529, 530, 531, 532, 533, 534, 535, 536, 537, 538, 539, 540, 541, 542, 543, 544, 545, 546, 547, 548, 549, 550, 551, 552, 553, 554, 555, 556, 557, 558, 559, 560, 561, 562, 563, 564, 565, 566, 567, 568, 569, 570, 571, 572, 573, 574, 575, 576, 577, 578, 579, 580, 581, 582, 583, 584, 585, 586, 587, 588, 589, 590, 591, 592, 593, 594, 595, 596, 597, 598, 599, 600, 601, 602, 603, 604, 605, 606, 607, 608, 609, 610, 611, 612, 613, 614, 615, 616, 617, 618, 619, 620, 621, 622, 623, 624, 625, 626, 627, 628, 629, 630, 631, 632, 633, 634, 635, 636, 637, 638, 639, 640, 641, 642, 643, 644, 645, 646, 647, 648, 649, 650, 651, 652, 653, 654, 655, 656, 657, 658, 659, 660, 661, 662, 663, 664, 665, 666, 667, 668, 669, 670, 671, 672, 673, 674, 675, 676, 677, 678, 679, 680, 681, 682, 683, 684, 685, 686, 687, 688, 689, 690, 691, 692, 693, 694, 695, 696, 697, 698, 699, 700, 701, 702, 703, 704, 705, 706, 707, 708, 709, 710, 711, 712, 713, 714, 715, 716, 717, 718, 719, 720, 721, 722, 723, 724, 725, 726, 727, 728, 729, 730, 731, 732, 733, 734, 735, 736, 737, 738, 739, 740, 741, 742, 743, 744, 745, 746, 747, 748, 749, 750, 751, 752, 753, 754, 755, 756, 757, 758, 759, 760, 761, 762, 763, 764, 765, 766, 767, 768, 769, 770, 771, 772, 773, 774, 775, 776, 777, 778, 779, 780, 781, 782, 783, 784, 785, 786, 787, 788, 789, 790, 791, 792, 793, 794, 795, 796, 797, 798, 799, 800, 801, 802, 803, 804, 805, 806, 807, 808, 809, 810, 811, 812, 813, 814, 815, 816, 817, 818, 819, 820, 821, 822, 823, 824, 825, 826, 827, 828, 829, 830, 831, 832, 833, 834, 835, 836, 837, 838, 839, 840, 841, 842, 843, 844, 845, 846, 847, 848, 849, 850, 851, 852, 853, 854, 855, 856, 857, 858, 859, 860, 861, 862, 863, 864, 865, 866, 867, 868, 869, 870, 871, 872, 873, 874, 875, 876, 877, 878, 879, 880, 881, 882, 883, 884, 885, 886, 887, 888, 889, 890, 891, 892, 893, 894, 895, 896, 897, 898, 899, 900, 901, 902, 903, 904, 905, 906, 907, 908, 909, 910, 911, 912, 913, 914, 915, 916, 917, 918, 919, 920, 921, 922, 923, 924, 925, 926, 927, 928, 929, 930, 931, 932, 933, 934, 935, 936, 937, 938, 939, 940, 941, 942, 943, 944, 945, 946, 947, 948, 949, 950, 951, 952, 953, 954, 955, 956, 957, 958, 959, 960, 961, 962, 963, 964, 965, 966, 967, 968, 969, 970, 971, 972, 973, 974, 975, 976, 977, 978, 979, 980, 981, 982, 983, 984, 985, 986, 987, 988, 989, 990, 991, 992, 993, 994, 995, 996, 997, 998, 999]\n",
      "\n",
      "All numbers in list are even: [2, 4, 6, 8, 10, 12, 14, 16, 18, 20, 22, 24, 26, 28, 30, 32, 34, 36, 38, 40, 42, 44, 46, 48, 50, 52, 54, 56, 58, 60, 62, 64, 66, 68, 70, 72, 74, 76, 78, 80, 82, 84, 86, 88, 90, 92, 94, 96, 98, 100, 102, 104, 106, 108, 110, 112, 114, 116, 118, 120, 122, 124, 126, 128, 130, 132, 134, 136, 138, 140, 142, 144, 146, 148, 150, 152, 154, 156, 158, 160, 162, 164, 166, 168, 170, 172, 174, 176, 178, 180, 182, 184, 186, 188, 190, 192, 194, 196, 198, 200, 202, 204, 206, 208, 210, 212, 214, 216, 218, 220, 222, 224, 226, 228, 230, 232, 234, 236, 238, 240, 242, 244, 246, 248, 250, 252, 254, 256, 258, 260, 262, 264, 266, 268, 270, 272, 274, 276, 278, 280, 282, 284, 286, 288, 290, 292, 294, 296, 298, 300, 302, 304, 306, 308, 310, 312, 314, 316, 318, 320, 322, 324, 326, 328, 330, 332, 334, 336, 338, 340, 342, 344, 346, 348, 350, 352, 354, 356, 358, 360, 362, 364, 366, 368, 370, 372, 374, 376, 378, 380, 382, 384, 386, 388, 390, 392, 394, 396, 398, 400, 402, 404, 406, 408, 410, 412, 414, 416, 418, 420, 422, 424, 426, 428, 430, 432, 434, 436, 438, 440, 442, 444, 446, 448, 450, 452, 454, 456, 458, 460, 462, 464, 466, 468, 470, 472, 474, 476, 478, 480, 482, 484, 486, 488, 490, 492, 494, 496, 498, 500, 502, 504, 506, 508, 510, 512, 514, 516, 518, 520, 522, 524, 526, 528, 530, 532, 534, 536, 538, 540, 542, 544, 546, 548, 550, 552, 554, 556, 558, 560, 562, 564, 566, 568, 570, 572, 574, 576, 578, 580, 582, 584, 586, 588, 590, 592, 594, 596, 598, 600, 602, 604, 606, 608, 610, 612, 614, 616, 618, 620, 622, 624, 626, 628, 630, 632, 634, 636, 638, 640, 642, 644, 646, 648, 650, 652, 654, 656, 658, 660, 662, 664, 666, 668, 670, 672, 674, 676, 678, 680, 682, 684, 686, 688, 690, 692, 694, 696, 698, 700, 702, 704, 706, 708, 710, 712, 714, 716, 718, 720, 722, 724, 726, 728, 730, 732, 734, 736, 738, 740, 742, 744, 746, 748, 750, 752, 754, 756, 758, 760, 762, 764, 766, 768, 770, 772, 774, 776, 778, 780, 782, 784, 786, 788, 790, 792, 794, 796, 798, 800, 802, 804, 806, 808, 810, 812, 814, 816, 818, 820, 822, 824, 826, 828, 830, 832, 834, 836, 838, 840, 842, 844, 846, 848, 850, 852, 854, 856, 858, 860, 862, 864, 866, 868, 870, 872, 874, 876, 878, 880, 882, 884, 886, 888, 890, 892, 894, 896, 898, 900, 902, 904, 906, 908, 910, 912, 914, 916, 918, 920, 922, 924, 926, 928, 930, 932, 934, 936, 938, 940, 942, 944, 946, 948, 950, 952, 954, 956, 958, 960, 962, 964, 966, 968, 970, 972, 974, 976, 978, 980, 982, 984, 986, 988, 990, 992, 994, 996, 998]\n"
     ]
    }
   ],
   "source": [
    "#List comprehension with set range between 1 to 1000, for printing number from 1  to 1000\n",
    "numbers = [x for x in range(1, 1000)]\n",
    "print(f\"\\nNumber from 1 to 1000: {numbers}\")#printing results\n",
    "\n",
    "#List comprehension with set range between 1 to 1000,but if condition has used between 1 to 1000 only to print even number\n",
    "even_numbers = [x for x in range(1,1000) if x % 2 == 0]\n",
    "print(f\"\\nAll numbers in list are even: {even_numbers}\")#printing result"
   ]
  },
  {
   "cell_type": "markdown",
   "id": "f3d0f3bf",
   "metadata": {},
   "source": [
    "#### 13. TASK 3"
   ]
  },
  {
   "cell_type": "code",
   "execution_count": 173,
   "id": "ede6fbb4",
   "metadata": {
    "scrolled": false
   },
   "outputs": [
    {
     "name": "stdout",
     "output_type": "stream",
     "text": [
      "Enter user name: harry\n",
      "Enter user name: WORLD\n",
      "Enter user name: Break\n",
      "Enter user name: John\n",
      "Incorrect names:  ['Harry', 'World', 'Break']\n"
     ]
    }
   ],
   "source": [
    "name_list = [] #name_list list data type will store list of name\n",
    "while True: #while loop for running continous loop\n",
    "    user_name = str(input(\"Enter user name: \")) #user_name varibale will take input from user\n",
    "     #user_sensitivity will convert all small starting letter to capital like \"harry\" will be \"Harry\"\n",
    "    #title() built in function has been used\n",
    "    user_sensitivity = user_name.title() \n",
    "    if user_name == \"John\": #if user_name is equal to \"John\" than their will be break of while loop\n",
    "        break\n",
    "    else:\n",
    "        name_list.append(user_sensitivity)#all names will be stored into name_List using append() built in function\n",
    "print(\"Incorrect names: \",name_list)#printing result"
   ]
  }
 ],
 "metadata": {
  "kernelspec": {
   "display_name": "Python 3 (ipykernel)",
   "language": "python",
   "name": "python3"
  },
  "language_info": {
   "codemirror_mode": {
    "name": "ipython",
    "version": 3
   },
   "file_extension": ".py",
   "mimetype": "text/x-python",
   "name": "python",
   "nbconvert_exporter": "python",
   "pygments_lexer": "ipython3",
   "version": "3.9.12"
  }
 },
 "nbformat": 4,
 "nbformat_minor": 5
}
