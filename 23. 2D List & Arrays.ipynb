{
 "cells": [
  {
   "cell_type": "markdown",
   "id": "28f98892",
   "metadata": {},
   "source": [
    "### 2D LISTS / ARRAYS"
   ]
  },
  {
   "cell_type": "code",
   "execution_count": 100,
   "id": "456f6d5e",
   "metadata": {},
   "outputs": [],
   "source": [
    "import matplotlib.pyplot as plt\n",
    "from matplotlib import colors\n",
    "import numpy as np\n",
    "import seaborn as sns\n",
    "import pandas as pd"
   ]
  },
  {
   "cell_type": "markdown",
   "id": "0ea04ce0",
   "metadata": {},
   "source": [
    "Hemant Thapa"
   ]
  },
  {
   "cell_type": "markdown",
   "id": "24362a01",
   "metadata": {},
   "source": [
    "A 2D array in python is a two-dimensional data structure stored linearly in the memory. It means that it has two dimensions, the rows, and the columns, and thus it also represents a matrix."
   ]
  },
  {
   "cell_type": "code",
   "execution_count": 28,
   "id": "0c4b5938",
   "metadata": {},
   "outputs": [
    {
     "data": {
      "text/plain": [
       "[[None, None], [None, None], [None, None]]"
      ]
     },
     "execution_count": 28,
     "metadata": {},
     "output_type": "execute_result"
    }
   ],
   "source": [
    "rows = 3\n",
    "cols = 2\n",
    "two_dimensional = [[None]*cols for _ in range(rows)]\n",
    "two_dimensional"
   ]
  },
  {
   "cell_type": "code",
   "execution_count": 135,
   "id": "3c54bedd",
   "metadata": {},
   "outputs": [
    {
     "data": {
      "text/plain": [
       "[[0, 0, 0, 0, 0],\n",
       " [0, 0, 0, 0, 0],\n",
       " [0, 0, 0, 0, 0],\n",
       " [0, 0, 0, 0, 0],\n",
       " [0, 0, 0, 0, 0]]"
      ]
     },
     "execution_count": 135,
     "metadata": {},
     "output_type": "execute_result"
    }
   ],
   "source": [
    "r,c = 5,5\n",
    "ar = [[0 for j in range(c)] for i in range(r)]\n",
    "ar"
   ]
  },
  {
   "cell_type": "code",
   "execution_count": 136,
   "id": "1bbee92f",
   "metadata": {},
   "outputs": [
    {
     "data": {
      "text/plain": [
       "[[0, 0, 0, 0, 0],\n",
       " [0, 0, 0, 0, 0],\n",
       " [0, 0, 0, 0, 0],\n",
       " [0, 0, 0, 0, 0],\n",
       " [0, 0, 0, 0, 0]]"
      ]
     },
     "execution_count": 136,
     "metadata": {},
     "output_type": "execute_result"
    }
   ],
   "source": [
    "def list_2D(r, c):\n",
    "    l = []\n",
    "    for i in range(r):\n",
    "        x = [0] * c\n",
    "        l.append(x)\n",
    "    return l\n",
    "list_2D(5,5)"
   ]
  },
  {
   "cell_type": "markdown",
   "id": "2782d750",
   "metadata": {},
   "source": [
    "#### 1. CREATING 2D LIST"
   ]
  },
  {
   "cell_type": "markdown",
   "id": "3d5927cf",
   "metadata": {},
   "source": [
    "##### Creating a 1-D list"
   ]
  },
  {
   "cell_type": "markdown",
   "id": "e68e9052",
   "metadata": {},
   "source": [
    "Here we are multiplying the number of rows by the empty list and hence the entire list is created with every element zero."
   ]
  },
  {
   "cell_type": "code",
   "execution_count": 139,
   "id": "339f5a87",
   "metadata": {},
   "outputs": [
    {
     "name": "stdout",
     "output_type": "stream",
     "text": [
      "[0, 0, 0, 0, 0]\n"
     ]
    }
   ],
   "source": [
    "N = 5\n",
    "ar = [0]*N\n",
    "print(ar)"
   ]
  },
  {
   "cell_type": "markdown",
   "id": "23c6d769",
   "metadata": {},
   "source": [
    "##### Creating a 2-D list"
   ]
  },
  {
   "cell_type": "markdown",
   "id": "4eafa576",
   "metadata": {},
   "source": [
    "Here we are multiplying the number of columns and hence we are getting the 1-D list of size equal to the number of columns and then multiplying it with the number of rows which results in the creation of a 2-D list."
   ]
  },
  {
   "cell_type": "markdown",
   "id": "b49aa7c4",
   "metadata": {},
   "source": [
    "Using this method can sometimes cause unexpected behaviors. In this method, each row will be referencing the same column. This means, even if we update only one element of the array, it will update same column in our array"
   ]
  },
  {
   "cell_type": "code",
   "execution_count": 140,
   "id": "d41eef96",
   "metadata": {},
   "outputs": [
    {
     "name": "stdout",
     "output_type": "stream",
     "text": [
      "[[0, 0, 0, 0, 0], [0, 0, 0, 0, 0], [0, 0, 0, 0, 0], [0, 0, 0, 0, 0], [0, 0, 0, 0, 0]]\n"
     ]
    }
   ],
   "source": [
    "rows, cols = (5, 5)\n",
    "arr = [[0]*cols]*rows\n",
    "print(arr)"
   ]
  },
  {
   "cell_type": "markdown",
   "id": "9129b2cb",
   "metadata": {},
   "source": [
    "##### Using List Comprehension"
   ]
  },
  {
   "cell_type": "markdown",
   "id": "8e330e32",
   "metadata": {},
   "source": [
    "Here we are basically using the concept of list comprehension and applying loop for a list inside a list and hence creating a 2-D list"
   ]
  },
  {
   "cell_type": "code",
   "execution_count": 141,
   "id": "de2d7f02",
   "metadata": {},
   "outputs": [
    {
     "name": "stdout",
     "output_type": "stream",
     "text": [
      "[[0, 0, 0, 0, 0], [0, 0, 0, 0, 0], [0, 0, 0, 0, 0], [0, 0, 0, 0, 0], [0, 0, 0, 0, 0]]\n"
     ]
    }
   ],
   "source": [
    "rows, cols = (5, 5)\n",
    "arr = [[0 for i in range(cols)] for j in range(rows)]\n",
    "print(arr)"
   ]
  },
  {
   "cell_type": "markdown",
   "id": "6f05bcae",
   "metadata": {},
   "source": [
    "##### Using empty list"
   ]
  },
  {
   "cell_type": "markdown",
   "id": "9c48ff35",
   "metadata": {},
   "source": [
    "Here we are appending zeros as elements for number of columns times and then appending this 1-D list into the empty row list and hence creating the 2-D list."
   ]
  },
  {
   "cell_type": "code",
   "execution_count": 143,
   "id": "f9cfc14f",
   "metadata": {},
   "outputs": [
    {
     "name": "stdout",
     "output_type": "stream",
     "text": [
      "[[0, 0, 0, 0, 0], [0, 0, 0, 0, 0], [0, 0, 0, 0, 0], [0, 0, 0, 0, 0], [0, 0, 0, 0, 0]]\n"
     ]
    }
   ],
   "source": [
    "arr=[]\n",
    "rows, cols=5,5\n",
    "for i in range(rows):\n",
    "    col = []\n",
    "    for j in range(cols):\n",
    "        col.append(0)\n",
    "    arr.append(col)\n",
    "print(arr)"
   ]
  },
  {
   "cell_type": "markdown",
   "id": "d75fbf8a",
   "metadata": {},
   "source": [
    "##### Example"
   ]
  },
  {
   "cell_type": "code",
   "execution_count": 27,
   "id": "c93a873b",
   "metadata": {},
   "outputs": [
    {
     "name": "stdout",
     "output_type": "stream",
     "text": [
      "\n",
      "Term: 1\n",
      "93%\n",
      "87%\n",
      "54%\n",
      "34%\n",
      "\n",
      "Term: 2\n",
      "66%\n",
      "43%\n",
      "98%\n",
      "76%\n",
      "\n",
      "Term: 3\n",
      "67%\n",
      "75%\n",
      "99%\n",
      "23%\n",
      "\n",
      "Term: 4\n",
      "87%\n",
      "56%\n",
      "43%\n",
      "88%\n"
     ]
    }
   ],
   "source": [
    "class_1 = [93,87,54,34]\n",
    "class_2 = [66,43,98,76]\n",
    "class_3 = [67,75,99,23]\n",
    "class_4 = [87,56,43,88]\n",
    "\n",
    "grades = [class_1,\n",
    "          class_2,\n",
    "          class_3,\n",
    "          class_4]\n",
    "\n",
    "term = 1\n",
    "for row in grades:\n",
    "    print(f\"\\nTerm: {term}\")\n",
    "    term +=1\n",
    "    for col in row:\n",
    "        print(col, end=\"%\\n\")"
   ]
  },
  {
   "cell_type": "markdown",
   "id": "9a2167d2",
   "metadata": {},
   "source": [
    "#### 2. INDEXING 2D LIST"
   ]
  },
  {
   "cell_type": "code",
   "execution_count": 29,
   "id": "4d3ba30a",
   "metadata": {},
   "outputs": [],
   "source": [
    "class_1 = [93,87,54,34]\n",
    "class_2 = [66,43,98,76]\n",
    "class_3 = [67,75,99,23]\n",
    "class_4 = [87,56,43,88]\n",
    "\n",
    "grades = [class_1,\n",
    "          class_2,\n",
    "          class_3,\n",
    "          class_4]\n"
   ]
  },
  {
   "cell_type": "code",
   "execution_count": 30,
   "id": "a36485a6",
   "metadata": {},
   "outputs": [
    {
     "data": {
      "text/plain": [
       "[[93, 87, 54, 34], [66, 43, 98, 76], [67, 75, 99, 23], [87, 56, 43, 88]]"
      ]
     },
     "execution_count": 30,
     "metadata": {},
     "output_type": "execute_result"
    }
   ],
   "source": [
    "grades"
   ]
  },
  {
   "cell_type": "code",
   "execution_count": 32,
   "id": "2b3f4f78",
   "metadata": {},
   "outputs": [
    {
     "data": {
      "text/plain": [
       "True"
      ]
     },
     "execution_count": 32,
     "metadata": {},
     "output_type": "execute_result"
    }
   ],
   "source": [
    "grades[0][0] == 93"
   ]
  },
  {
   "cell_type": "code",
   "execution_count": 33,
   "id": "7c21f8b1",
   "metadata": {},
   "outputs": [
    {
     "data": {
      "text/plain": [
       "93"
      ]
     },
     "execution_count": 33,
     "metadata": {},
     "output_type": "execute_result"
    }
   ],
   "source": [
    "grades[0][0]"
   ]
  },
  {
   "cell_type": "code",
   "execution_count": 40,
   "id": "6671a628",
   "metadata": {},
   "outputs": [
    {
     "data": {
      "text/plain": [
       "34"
      ]
     },
     "execution_count": 40,
     "metadata": {},
     "output_type": "execute_result"
    }
   ],
   "source": [
    "grades[0][-1]"
   ]
  },
  {
   "cell_type": "code",
   "execution_count": 36,
   "id": "c16ec0d6",
   "metadata": {},
   "outputs": [
    {
     "data": {
      "text/plain": [
       "True"
      ]
     },
     "execution_count": 36,
     "metadata": {},
     "output_type": "execute_result"
    }
   ],
   "source": [
    "grades[1][0] == 66"
   ]
  },
  {
   "cell_type": "code",
   "execution_count": 37,
   "id": "4fb3fce9",
   "metadata": {},
   "outputs": [
    {
     "data": {
      "text/plain": [
       "66"
      ]
     },
     "execution_count": 37,
     "metadata": {},
     "output_type": "execute_result"
    }
   ],
   "source": [
    "grades[1][0]"
   ]
  },
  {
   "cell_type": "code",
   "execution_count": 41,
   "id": "3ae83304",
   "metadata": {},
   "outputs": [
    {
     "data": {
      "text/plain": [
       "76"
      ]
     },
     "execution_count": 41,
     "metadata": {},
     "output_type": "execute_result"
    }
   ],
   "source": [
    "grades[1][-1]"
   ]
  },
  {
   "cell_type": "code",
   "execution_count": 42,
   "id": "319ba235",
   "metadata": {},
   "outputs": [
    {
     "data": {
      "text/plain": [
       "True"
      ]
     },
     "execution_count": 42,
     "metadata": {},
     "output_type": "execute_result"
    }
   ],
   "source": [
    "grades[2][0] == 67"
   ]
  },
  {
   "cell_type": "code",
   "execution_count": 43,
   "id": "4ed6f08b",
   "metadata": {},
   "outputs": [
    {
     "data": {
      "text/plain": [
       "67"
      ]
     },
     "execution_count": 43,
     "metadata": {},
     "output_type": "execute_result"
    }
   ],
   "source": [
    "grades[2][0]"
   ]
  },
  {
   "cell_type": "code",
   "execution_count": 44,
   "id": "c3fdd072",
   "metadata": {},
   "outputs": [
    {
     "data": {
      "text/plain": [
       "23"
      ]
     },
     "execution_count": 44,
     "metadata": {},
     "output_type": "execute_result"
    }
   ],
   "source": [
    "grades[2][-1]"
   ]
  },
  {
   "cell_type": "markdown",
   "id": "0df1611f",
   "metadata": {},
   "source": [
    "#### 3. RAGGED LIST"
   ]
  },
  {
   "cell_type": "code",
   "execution_count": 51,
   "id": "84ac9e76",
   "metadata": {},
   "outputs": [
    {
     "name": "stdout",
     "output_type": "stream",
     "text": [
      "1\n",
      "2\n",
      "3\n",
      "4\n",
      "5\n",
      "6\n",
      "7\n",
      "8\n",
      "9\n",
      "10\n"
     ]
    }
   ],
   "source": [
    "ragged = [[1,2,3],[4,5],[6],[7,8,9,10]]\n",
    "\n",
    "row = len(ragged)\n",
    "for row in range(row):\n",
    "    cols=len(ragged[row])\n",
    "    \n",
    "    for col  in range(cols):\n",
    "        print(ragged[row][col])"
   ]
  },
  {
   "cell_type": "markdown",
   "id": "9496d176",
   "metadata": {},
   "source": [
    "#### 4. ENUMERATE"
   ]
  },
  {
   "cell_type": "code",
   "execution_count": 59,
   "id": "016fee86",
   "metadata": {
    "scrolled": true
   },
   "outputs": [
    {
     "name": "stdout",
     "output_type": "stream",
     "text": [
      "[10, 20, 30, 40] 1\n",
      "10 1\n",
      "20 2\n",
      "30 3\n",
      "40 4\n",
      "[50, 60, 70, 80] 2\n",
      "50 1\n",
      "60 2\n",
      "70 3\n",
      "80 4\n"
     ]
    }
   ],
   "source": [
    "grades = [[10,20,30,40],[50,60,70,80]]\n",
    "for count, row in enumerate (grades, start=1):\n",
    "    print(row, count)\n",
    "    \n",
    "    for count, col in enumerate(row, start=1):\n",
    "        print(col, count)"
   ]
  },
  {
   "cell_type": "markdown",
   "id": "ac7388b7",
   "metadata": {},
   "source": [
    "#### 5. COLOR MAPPING"
   ]
  },
  {
   "cell_type": "code",
   "execution_count": 104,
   "id": "1822b42d",
   "metadata": {},
   "outputs": [
    {
     "data": {
      "image/png": "[encoded data removed]",
      "text/plain": [
       "<Figure size 432x288 with 1 Axes>"
      ]
     },
     "metadata": {
      "needs_background": "light"
     },
     "output_type": "display_data"
    },
    {
     "data": {
      "text/plain": [
       "numpy.ndarray"
      ]
     },
     "execution_count": 104,
     "metadata": {},
     "output_type": "execute_result"
    }
   ],
   "source": [
    "data = np.random.rand(10, 10) * 20\n",
    "cmap = colors.ListedColormap(['red', 'blue'])\n",
    "bounds = [0,10,20]\n",
    "norm = colors.BoundaryNorm(bounds, cmap.N)\n",
    "fig, ax = plt.subplots()\n",
    "ax.imshow(data, cmap=cmap, norm=norm)\n",
    "ax.grid(which='major', axis='both', linestyle='-', color='k', linewidth=2)\n",
    "ax.set_xticks(np.arange(-.5, 10, 1));\n",
    "ax.set_yticks(np.arange(-.5, 10, 1));\n",
    "plt.show()\n",
    "type(data)"
   ]
  },
  {
   "cell_type": "code",
   "execution_count": 105,
   "id": "322a7dca",
   "metadata": {
    "scrolled": true
   },
   "outputs": [
    {
     "data": {
      "image/png": "[encoded data removed]",
      "text/plain": [
       "<Figure size 432x288 with 1 Axes>"
      ]
     },
     "metadata": {
      "needs_background": "light"
     },
     "output_type": "display_data"
    },
    {
     "data": {
      "text/plain": [
       "numpy.ndarray"
      ]
     },
     "execution_count": 105,
     "metadata": {},
     "output_type": "execute_result"
    }
   ],
   "source": [
    "data = np.array(((1, 2, 3), (4, 5, 6)))\n",
    "plt.imshow(data)\n",
    "plt.show()\n",
    "type(data)"
   ]
  },
  {
   "cell_type": "code",
   "execution_count": 106,
   "id": "6c3d1a17",
   "metadata": {},
   "outputs": [
    {
     "data": {
      "image/png": "[encoded data removed]",
      "text/plain": [
       "<Figure size 432x288 with 1 Axes>"
      ]
     },
     "metadata": {
      "needs_background": "light"
     },
     "output_type": "display_data"
    },
    {
     "data": {
      "text/plain": [
       "numpy.ndarray"
      ]
     },
     "execution_count": 106,
     "metadata": {},
     "output_type": "execute_result"
    }
   ],
   "source": [
    "data = np.random.random((16, 16))\n",
    "plt.imshow(data, cmap='hot', interpolation='nearest')\n",
    "plt.show()\n",
    "type(data)"
   ]
  },
  {
   "cell_type": "code",
   "execution_count": 107,
   "id": "d5844349",
   "metadata": {},
   "outputs": [
    {
     "data": {
      "image/png": "[encoded data removed]",
      "text/plain": [
       "<Figure size 432x288 with 2 Axes>"
      ]
     },
     "metadata": {
      "needs_background": "light"
     },
     "output_type": "display_data"
    },
    {
     "data": {
      "text/plain": [
       "numpy.ndarray"
      ]
     },
     "execution_count": 107,
     "metadata": {},
     "output_type": "execute_result"
    }
   ],
   "source": [
    "uniform_data = np.random.rand(10, 12)\n",
    "ax = sns.heatmap(uniform_data, linewidth=0.5)\n",
    "plt.show()\n",
    "type(data)"
   ]
  },
  {
   "cell_type": "code",
   "execution_count": 108,
   "id": "aeceb39a",
   "metadata": {},
   "outputs": [
    {
     "data": {
      "image/png": "[encoded data removed]",
      "text/plain": [
       "<Figure size 432x288 with 2 Axes>"
      ]
     },
     "metadata": {},
     "output_type": "display_data"
    },
    {
     "data": {
      "text/plain": [
       "numpy.ndarray"
      ]
     },
     "execution_count": 108,
     "metadata": {},
     "output_type": "execute_result"
    }
   ],
   "source": [
    "corr = np.corrcoef(np.random.randn(10, 200))\n",
    "mask = np.zeros_like(corr)\n",
    "mask[np.triu_indices_from(mask)] = True\n",
    "with sns.axes_style(\"white\"):\n",
    "    ax = sns.heatmap(corr, mask=mask, vmax=.3, square=True,  cmap=\"YlGnBu\")\n",
    "    plt.show()\n",
    "type(data)"
   ]
  },
  {
   "cell_type": "code",
   "execution_count": 109,
   "id": "625dfea4",
   "metadata": {},
   "outputs": [
    {
     "data": {
      "image/png": "[encoded data removed]",
      "text/plain": [
       "<Figure size 432x288 with 2 Axes>"
      ]
     },
     "metadata": {
      "needs_background": "light"
     },
     "output_type": "display_data"
    },
    {
     "data": {
      "text/plain": [
       "numpy.ndarray"
      ]
     },
     "execution_count": 109,
     "metadata": {},
     "output_type": "execute_result"
    }
   ],
   "source": [
    "# generate 2 2d grids for the x & y bounds\n",
    "y, x = np.meshgrid(np.linspace(-3, 3, 100), np.linspace(-3, 3, 100))\n",
    "\n",
    "z = (1 - x / 2. + x ** 5 + y ** 3) * np.exp(-x ** 2 - y ** 2)\n",
    "# x and y are bounds, so z should be the value *inside* those bounds.\n",
    "# Therefore, remove the last value from the z array.\n",
    "z = z[:-1, :-1]\n",
    "z_min, z_max = -np.abs(z).max(), np.abs(z).max()\n",
    "\n",
    "fig, ax = plt.subplots()\n",
    "\n",
    "c = ax.pcolormesh(x, y, z, cmap='RdBu', vmin=z_min, vmax=z_max)\n",
    "ax.set_title('pcolormesh')\n",
    "# set the limits of the plot to the limits of the data\n",
    "ax.axis([x.min(), x.max(), y.min(), y.max()])\n",
    "fig.colorbar(c, ax=ax)\n",
    "\n",
    "plt.show()\n",
    "type(data)"
   ]
  },
  {
   "cell_type": "code",
   "execution_count": 110,
   "id": "349154c4",
   "metadata": {},
   "outputs": [
    {
     "data": {
      "image/png": "[encoded data removed]",
      "text/plain": [
       "<Figure size 432x288 with 2 Axes>"
      ]
     },
     "metadata": {
      "needs_background": "light"
     },
     "output_type": "display_data"
    },
    {
     "data": {
      "text/plain": [
       "numpy.ndarray"
      ]
     },
     "execution_count": 110,
     "metadata": {},
     "output_type": "execute_result"
    }
   ],
   "source": [
    "def heatmap2d(arr: np.ndarray):\n",
    "    plt.imshow(arr, cmap='viridis')\n",
    "    plt.colorbar()\n",
    "    plt.show()\n",
    "\n",
    "\n",
    "test_array = np.arange(100 * 100).reshape(100, 100)\n",
    "heatmap2d(test_array)\n",
    "type(data)"
   ]
  },
  {
   "cell_type": "code",
   "execution_count": 111,
   "id": "0332bf98",
   "metadata": {},
   "outputs": [
    {
     "data": {
      "image/png": "[encoded data removed]",
      "text/plain": [
       "<Figure size 432x288 with 1 Axes>"
      ]
     },
     "metadata": {
      "needs_background": "light"
     },
     "output_type": "display_data"
    },
    {
     "data": {
      "text/plain": [
       "list"
      ]
     },
     "execution_count": 111,
     "metadata": {},
     "output_type": "execute_result"
    }
   ],
   "source": [
    "data=[{2,3,4,1},{6,3,5,2},{6,3,5,4},{3,7,5,4},{2,8,1,5}]\n",
    "Index= ['I1', 'I2','I3','I4','I5']\n",
    "Cols = ['C1', 'C2', 'C3','C4']\n",
    "df = pd.DataFrame(data, index=Index, columns=Cols)\n",
    "plt.pcolor(df)\n",
    "plt.show()\n",
    "type(data)"
   ]
  }
 ],
 "metadata": {
  "kernelspec": {
   "display_name": "Python 3 (ipykernel)",
   "language": "python",
   "name": "python3"
  },
  "language_info": {
   "codemirror_mode": {
    "name": "ipython",
    "version": 3
   },
   "file_extension": ".py",
   "mimetype": "text/x-python",
   "name": "python",
   "nbconvert_exporter": "python",
   "pygments_lexer": "ipython3",
   "version": "3.9.12"
  }
 },
 "nbformat": 4,
 "nbformat_minor": 5
}
