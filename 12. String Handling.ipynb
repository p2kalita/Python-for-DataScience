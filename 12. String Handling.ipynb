{
 "cells": [
  {
   "cell_type": "markdown",
   "id": "651154c4",
   "metadata": {},
   "source": [
    "## String Handling"
   ]
  },
  {
   "cell_type": "markdown",
   "id": "aa8ca9aa",
   "metadata": {},
   "source": [
    "\n",
    "Hemant Thapa"
   ]
  },
  {
   "cell_type": "markdown",
   "id": "b317ea09",
   "metadata": {},
   "source": [
    "#### 1. INDEXING STRINGS"
   ]
  },
  {
   "cell_type": "code",
   "execution_count": null,
   "id": "1baf2f87",
   "metadata": {},
   "outputs": [],
   "source": [
    "string = \"Hello world\"\n",
    "print(string)"
   ]
  },
  {
   "cell_type": "code",
   "execution_count": null,
   "id": "baa2666e",
   "metadata": {},
   "outputs": [],
   "source": [
    "string[0] #H\n",
    "string[1] #e\n",
    "string[2] #l\n",
    "string[3] #l\n",
    "string[4] #o"
   ]
  },
  {
   "cell_type": "code",
   "execution_count": null,
   "id": "407ea655",
   "metadata": {},
   "outputs": [],
   "source": [
    "string[0]+string[1]+string[2]+string[3]+string[4]"
   ]
  },
  {
   "cell_type": "markdown",
   "id": "4dab2a25",
   "metadata": {},
   "source": [
    "#### 2. SUBSTRING"
   ]
  },
  {
   "cell_type": "code",
   "execution_count": null,
   "id": "201e5bd4",
   "metadata": {},
   "outputs": [],
   "source": [
    "string = \"Hello world\"\n",
    "new_string = string[0:5] #[start:end]\n",
    "print(new_string)"
   ]
  },
  {
   "cell_type": "markdown",
   "id": "84f09f92",
   "metadata": {},
   "source": [
    "#### 3. STRING METHODS"
   ]
  },
  {
   "cell_type": "code",
   "execution_count": null,
   "id": "bdb0cc76",
   "metadata": {},
   "outputs": [],
   "source": [
    "string = \"Hello world\""
   ]
  },
  {
   "cell_type": "markdown",
   "id": "9b5ab38c",
   "metadata": {},
   "source": [
    "##### 3.1.  .lower() and .upper()"
   ]
  },
  {
   "cell_type": "code",
   "execution_count": null,
   "id": "5429ee85",
   "metadata": {},
   "outputs": [],
   "source": [
    "string = \"Hello world\"\n",
    "string.lower()"
   ]
  },
  {
   "cell_type": "code",
   "execution_count": null,
   "id": "f1d6ad54",
   "metadata": {},
   "outputs": [],
   "source": [
    "string = \"Hello world\"\n",
    "string.upper()"
   ]
  },
  {
   "cell_type": "markdown",
   "id": "4fe9dd32",
   "metadata": {},
   "source": [
    "##### 3.2. strip()"
   ]
  },
  {
   "cell_type": "code",
   "execution_count": null,
   "id": "7cb9d4f3",
   "metadata": {},
   "outputs": [],
   "source": [
    "string = \"   Hello world   \"\n",
    "len(string)"
   ]
  },
  {
   "cell_type": "code",
   "execution_count": null,
   "id": "939ab1ac",
   "metadata": {},
   "outputs": [],
   "source": [
    "new_string = string.strip()\n",
    "print(new_string)"
   ]
  },
  {
   "cell_type": "code",
   "execution_count": null,
   "id": "5e0b192d",
   "metadata": {},
   "outputs": [],
   "source": [
    "len(new_string)"
   ]
  },
  {
   "cell_type": "markdown",
   "id": "8f71c594",
   "metadata": {},
   "source": [
    "##### 3.3. .strip()"
   ]
  },
  {
   "cell_type": "code",
   "execution_count": null,
   "id": "884c6fc9",
   "metadata": {},
   "outputs": [],
   "source": [
    "string = \",,,,,11222.....Hello world....444\"\n",
    "new_string = string.strip(\",1432.\") \n",
    "new_string"
   ]
  },
  {
   "cell_type": "markdown",
   "id": "832d746a",
   "metadata": {},
   "source": [
    "##### 3.4..find('text')"
   ]
  },
  {
   "cell_type": "code",
   "execution_count": null,
   "id": "7115ac99",
   "metadata": {},
   "outputs": [],
   "source": [
    "string = \"Helloworld\"\n",
    "string.find(\"l\") #locating word"
   ]
  },
  {
   "cell_type": "code",
   "execution_count": null,
   "id": "8140a4a7",
   "metadata": {},
   "outputs": [],
   "source": [
    "string = \"Helloworld\"\n",
    "string.find(\"H\")"
   ]
  },
  {
   "cell_type": "markdown",
   "id": "4ec587f0",
   "metadata": {},
   "source": [
    "##### 3.5. .replace(\"oldText\", \"newText\")"
   ]
  },
  {
   "cell_type": "code",
   "execution_count": null,
   "id": "98aef8f3",
   "metadata": {},
   "outputs": [],
   "source": [
    "string = \"Harry world\"\n",
    "string.replace(\"Harry\",\"Hello\") \n",
    "print(string)"
   ]
  },
  {
   "cell_type": "markdown",
   "id": "236f97fb",
   "metadata": {},
   "source": [
    "#### 3.6. .split(\"word\")"
   ]
  },
  {
   "cell_type": "code",
   "execution_count": null,
   "id": "6786aa52",
   "metadata": {},
   "outputs": [],
   "source": [
    "string = \"Hello world\"\n",
    "string.split(\"e\")"
   ]
  },
  {
   "cell_type": "code",
   "execution_count": null,
   "id": "e398d9d0",
   "metadata": {},
   "outputs": [],
   "source": [
    "string = \"Hello world\"\n",
    "string.split(\"ell\")"
   ]
  },
  {
   "cell_type": "code",
   "execution_count": null,
   "id": "5f67d94e",
   "metadata": {},
   "outputs": [],
   "source": [
    "string = \"Hello world\"\n",
    "string.split(\"Hello\")"
   ]
  },
  {
   "cell_type": "markdown",
   "id": "25e6b046",
   "metadata": {},
   "source": [
    "#### 3.7. .append(item)"
   ]
  },
  {
   "cell_type": "code",
   "execution_count": null,
   "id": "e1196a4c",
   "metadata": {},
   "outputs": [],
   "source": [
    "string_list = [\"Harry\", \"World\"]\n",
    "string_list.append(\"Hello\")\n",
    "string_list"
   ]
  },
  {
   "cell_type": "markdown",
   "id": "81b628c5",
   "metadata": {},
   "source": [
    "#### 3.8. .join(string_list)"
   ]
  },
  {
   "cell_type": "code",
   "execution_count": null,
   "id": "81243872",
   "metadata": {},
   "outputs": [],
   "source": [
    "numList = ['1', '2', '3', '4']\n",
    "separator = ', '\n",
    "print(separator.join(numList))"
   ]
  },
  {
   "cell_type": "code",
   "execution_count": null,
   "id": "b178bcb3",
   "metadata": {},
   "outputs": [],
   "source": [
    "string_list = ['H','e','l','l', 'o']  \n",
    "print(\"\".join(string_list)) "
   ]
  },
  {
   "cell_type": "markdown",
   "id": "f28c8999",
   "metadata": {},
   "source": [
    "### 4. ESCAPE CHARACTER"
   ]
  },
  {
   "attachments": {
    "image.png": {
     "image/png": "[encoded data removed]"
    }
   },
   "cell_type": "markdown",
   "id": "438b7e2f",
   "metadata": {},
   "source": [
    "![image.png](attachment:image.png)"
   ]
  },
  {
   "cell_type": "markdown",
   "id": "ff390a7e",
   "metadata": {},
   "source": [
    " \\n - Newline\n",
    "\n",
    "\\t - Tab"
   ]
  },
  {
   "cell_type": "code",
   "execution_count": null,
   "id": "591606eb",
   "metadata": {},
   "outputs": [],
   "source": [
    "print(\"Harry world\")"
   ]
  },
  {
   "cell_type": "code",
   "execution_count": null,
   "id": "ec190aac",
   "metadata": {},
   "outputs": [],
   "source": [
    "print(\"\\nHarry\\nworld\")"
   ]
  },
  {
   "cell_type": "code",
   "execution_count": null,
   "id": "755b3b20",
   "metadata": {},
   "outputs": [],
   "source": [
    "print(\"\\tHarry world\")"
   ]
  },
  {
   "cell_type": "markdown",
   "id": "54eb23aa",
   "metadata": {},
   "source": [
    "### 5. STRING BUILDING"
   ]
  },
  {
   "cell_type": "code",
   "execution_count": null,
   "id": "61ed7fb8",
   "metadata": {},
   "outputs": [],
   "source": [
    "name = \"Harry\"\n",
    "print(f\"Hello, {name}\")"
   ]
  },
  {
   "cell_type": "code",
   "execution_count": null,
   "id": "41ed5324",
   "metadata": {},
   "outputs": [],
   "source": [
    "name = \"Harry\"\n",
    "print(\"Hello, {}\".format(name))"
   ]
  },
  {
   "cell_type": "code",
   "execution_count": null,
   "id": "fbe6f15b",
   "metadata": {},
   "outputs": [],
   "source": [
    "num_builder = \"\"\n",
    "i = 0\n",
    "while i<=50:\n",
    "    if i % 2==0:\n",
    "        num_builder += str(i) + \" \"\n",
    "    i += 1\n",
    "print(num_builder)"
   ]
  },
  {
   "cell_type": "code",
   "execution_count": null,
   "id": "9c33d022",
   "metadata": {},
   "outputs": [],
   "source": [
    "num_builder = []\n",
    "i = 0\n",
    "while i<=50:\n",
    "    if i % 2==0:\n",
    "        num_builder.append(str(i))\n",
    "    i +=1\n",
    "print(\"  \".join(num_builder))"
   ]
  },
  {
   "cell_type": "markdown",
   "id": "7a39bb52",
   "metadata": {},
   "source": [
    "### 6. Task 1"
   ]
  },
  {
   "cell_type": "code",
   "execution_count": null,
   "id": "495c7bb0",
   "metadata": {
    "scrolled": true
   },
   "outputs": [],
   "source": [
    "#\"string\" variable will store string data types \"Hello World\"\n",
    "string = \"Hello World\"\n",
    "#substring \"string_alternate\" will store indexing of string variable\n",
    "#string[0]  - \"H\"\n",
    "#string[1]  - \"e\"\n",
    "#string[2]  - \"l\"\n",
    "#string[3]  - \"l\"\n",
    "#string[4]  - \"o\"\n",
    "#string[5]  - \" \"\n",
    "#string[6]  - \"W\"\n",
    "#string[7]  - \"o\"\n",
    "#string[8]  - \"r\"\n",
    "#string[9]  - \"l\"\n",
    "#string[10] - \"d\"\n",
    "string_alternate = string[0].upper()+string[1].lower()+string[2].upper()+string[3].lower()+string[4].upper()+string[5]+string[6].upper()+string[7].lower()+string[8].upper()+string[9].lower()+string[10].upper()\n",
    "print(string_alternate)"
   ]
  },
  {
   "cell_type": "markdown",
   "id": "8a1b76c6",
   "metadata": {},
   "source": [
    "### 7. TASK 2"
   ]
  },
  {
   "cell_type": "code",
   "execution_count": null,
   "id": "12beb543",
   "metadata": {},
   "outputs": [],
   "source": [
    "#\"string\" variable will store string data types \"Hello World\"\n",
    "string = \"Hello World\"\n",
    "#presentation of original format of string using f-string print function\n",
    "print(f\"\\nOriginal string: {string}\")\n",
    "\n",
    "#alt stand for alternate variable which will store string data types\n",
    "alt = \"\"\n",
    "#for loop for iterating inside the string length\n",
    "for i in range(len(string)):\n",
    "    #if and else statemnt for alternating upper and lower case string\n",
    "    \n",
    "    #if statement, it will convert every second iterated value into lower case\n",
    "    if i % 2: \n",
    "        alt = alt + string[i].lower()\n",
    "    #else statement, it work opposite to if statement. it will convert all value into lower case after upper case character, for maintaing alternative characters\n",
    "    else:\n",
    "        alt = alt + string[i].upper()\n",
    "#Ouput or final result \n",
    "print(f\"\\nAlternate string: {alt}\")"
   ]
  },
  {
   "cell_type": "markdown",
   "id": "a9867d09",
   "metadata": {},
   "source": [
    "### 8. TASK 3"
   ]
  },
  {
   "cell_type": "code",
   "execution_count": null,
   "id": "b1aab087",
   "metadata": {
    "scrolled": false
   },
   "outputs": [],
   "source": [
    "#\"string\" variable will store string data types \"Hello World\"\n",
    "string = \"I am learning to code\"\n",
    "#presentation of original format of string using f-string print function\n",
    "print(f\"\\nOriginal string: {string}\")\n",
    "#alt stand for alternate variable which will store string data types\n",
    "alt  = \" \"\n",
    "operation_split = string.split()\n",
    "for i in range(len(operation_split)):\n",
    "    if i%2:\n",
    "        alt = alt +\" \"+ operation_split[i].upper()\n",
    "    else:\n",
    "        alt = alt +\" \"+ operation_split[i].lower()\n",
    "#Ouput or final result \n",
    "print(f\"\\nAlternate string:{alt}\")"
   ]
  },
  {
   "cell_type": "markdown",
   "id": "4b2e1397",
   "metadata": {},
   "source": [
    "### 9. TASK 4"
   ]
  },
  {
   "cell_type": "code",
   "execution_count": null,
   "id": "b7807ae2",
   "metadata": {
    "scrolled": true
   },
   "outputs": [],
   "source": [
    "string = \"I am learning to code\"\n",
    "print(\" \".join(c.upper() if i%2 != 0 else c.lower()  for i, c in enumerate(string.split())))"
   ]
  },
  {
   "cell_type": "markdown",
   "id": "a0d2decb",
   "metadata": {},
   "source": [
    "### 10. TASK 5"
   ]
  },
  {
   "cell_type": "code",
   "execution_count": null,
   "id": "b2472cf7",
   "metadata": {},
   "outputs": [],
   "source": [
    "s = \"I am learning to code\"\n",
    "s1 = s.split()\n",
    "s2 = []\n",
    "for i in range(len(s1)):\n",
    "    if i % 2 != 0:\n",
    "        s2.append(s1[i].upper())\n",
    "    else:\n",
    "        s2.append(s1[i].lower())\n",
    "alt = \" \".join(s2)\n",
    "print(f\"\\nAlternate string: {alt}\")"
   ]
  },
  {
   "cell_type": "markdown",
   "id": "bdc579f5",
   "metadata": {},
   "source": [
    "### 11. TASK 6"
   ]
  },
  {
   "cell_type": "code",
   "execution_count": null,
   "id": "f87725bc",
   "metadata": {},
   "outputs": [],
   "source": [
    "#user will take input\n",
    "user_sentence = str(input(\"Enter your sentence: \"))\n",
    "print()\n",
    "words = user_sentence.split()\n",
    "for i in words:\n",
    "    print(i)"
   ]
  },
  {
   "cell_type": "markdown",
   "id": "fb5ade6c",
   "metadata": {},
   "source": [
    "### 12. TASK 7"
   ]
  },
  {
   "cell_type": "code",
   "execution_count": 34,
   "id": "4e9a5cc2",
   "metadata": {
    "scrolled": true
   },
   "outputs": [
    {
     "name": "stdout",
     "output_type": "stream",
     "text": [
      "Sentence for example: The quick brown fox jumps over the lazy dog.\n",
      "Please enter your sentence: The quick brown fox jumps over the lazy dog.\n",
      "\n",
      "After stripping a,e,i,o,u:  Th qck brwn fx jmps vr th lzy dg.\n"
     ]
    }
   ],
   "source": [
    "print(\"Sentence for example: The quick brown fox jumps over the lazy dog.\")#Printing instruction\n",
    "user_string = str(input(\"Please enter your sentence: \")) #user_string will store string value and input() built in function has been used\n",
    "\n",
    "alphabet = ['a', 'e', 'i', 'o', 'u', 'A', 'E', 'I', 'O', 'U'] #disappear_word list data types has stored a,e,i,o,u for  small case and A,E,I,O,U for  upper case\n",
    "result = \"\" #result or output of string will be stored here\n",
    "\n",
    "for i in range(len(user_string)): #for loop to iterate into user_string\n",
    "    if user_string[i] not in alphabet: #comparing user input sentence and alphabet a,e,i,o,u,A,E,I,O,U\n",
    "        result = result + user_string[i]\n",
    "\n",
    "print(\"\\nAfter stripping a,e,i,o,u: \", result) #printing result"
   ]
  }
 ],
 "metadata": {
  "kernelspec": {
   "display_name": "Python 3 (ipykernel)",
   "language": "python",
   "name": "python3"
  },
  "language_info": {
   "codemirror_mode": {
    "name": "ipython",
    "version": 3
   },
   "file_extension": ".py",
   "mimetype": "text/x-python",
   "name": "python",
   "nbconvert_exporter": "python",
   "pygments_lexer": "ipython3",
   "version": "3.9.12"
  }
 },
 "nbformat": 4,
 "nbformat_minor": 5
}
